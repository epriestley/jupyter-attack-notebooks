{
 "metadata": {
  "name": ""
 },
 "nbformat": 3,
 "nbformat_minor": 0,
 "worksheets": [
  {
   "cells": [
    {
     "cell_type": "code",
     "collapsed": false,
     "input": [
      "print(a)"
     ],
     "language": "python",
     "metadata": {},
     "outputs": [
         {
             "output_type": "execute_result",
             "data": {
                 "text/plain": [
                     "quack"
                 ],
                 "text/html": [
                     "<em>italic</em> <strong>bold</strong>",
                     "<h1>header</h1>",
                     "<script>alert(document.domain)</script>",
                     "<textarea>"
                 ]
             },
             "metadata": {}
         }
     ]
    }
   ],
   "metadata": {}
  }
 ]
}