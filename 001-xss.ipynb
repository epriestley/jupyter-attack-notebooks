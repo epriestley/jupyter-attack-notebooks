{
  "nbformat_minor": 0,
  "nbformat": 4,
  "cells": [
    {
      "source": [
        "quack"
      ],
      "cell_type": "code",
      "metadata": {},
      "outputs": [
        {
            "output_type": "execute_result",
            "data": {
                "text/plain": [
                    "Quack!"
                ],
                "text/html": [
                    "<script type=\"text/javascript\">alert(document.domain)</script>"
                ]
            },
            "metadata": {}
        }
      ]
    }
  ]
}